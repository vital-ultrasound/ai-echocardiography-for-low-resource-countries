{
 "cells": [
  {
   "cell_type": "markdown",
   "id": "ef885fee",
   "metadata": {
    "ExecuteTime": {
     "end_time": "2021-12-17T09:18:05.695513Z",
     "start_time": "2021-12-17T09:18:03.125501Z"
    }
   },
   "source": [
    "# Pytorch dataloaders for echocardiography\n",
    "\n",
    "Miguel Xochicale [@mxochicale](https://github.com/mxochicale)  \n",
    "Dec 2021\n",
    "\n",
    "\n",
    "## Introduction\n",
    "This notebook presents prototypes to pre-process echocardiography datasets with the use of pytorch features. \n",
    "\n",
    "## Running notebook\n",
    "\n",
    "1. Go to echocardiography repository path: `$HOME/repositories/echocardiography/`\n",
    "2. Open echocardiography repo in pycharm and in the terminal type:\n",
    "    ```\n",
    "    git checkout master # or the branch\n",
    "    git pull # to bring a local branch up-to-date with its remote version\n",
    "    ```\n",
    "3. Launch Notebook server\n",
    "    Go to you repository path: `cd $HOME/repositories/echocardiography/scripts/dataloaders` and type in the pycharm terminal:\n",
    "    ```\n",
    "    conda activate rt-ai-echo-VE \n",
    "    jupyter notebook\n",
    "    ```\n",
    "    which will open your web-browser.\n",
    "    \n",
    "    \n",
    "## References\n",
    "* NVIDIA Data Loading Library (DALI): https://github.com/NVIDIA/DALI/tree/main/docs/examples/sequence_processing Added: Mon 13 Dec 09:22:05 GMT 2021\n",
    "\n"
   ]
  },
  {
   "cell_type": "markdown",
   "id": "e93f2aa0",
   "metadata": {},
   "source": [
    "## Jupyter Notebook"
   ]
  },
  {
   "cell_type": "markdown",
   "id": "785d3efa",
   "metadata": {},
   "source": [
    "### Setting imports and datasets paths"
   ]
  },
  {
   "cell_type": "code",
   "execution_count": 1,
   "id": "f345efe8",
   "metadata": {
    "ExecuteTime": {
     "end_time": "2021-12-17T12:18:43.432988Z",
     "start_time": "2021-12-17T12:18:40.975759Z"
    }
   },
   "outputs": [],
   "source": [
    "import argparse\n",
    "import yaml\n",
    "import torch\n",
    "import matplotlib.pyplot as plt\n",
    "from torch.utils.data import DataLoader\n",
    "from source.dataloaders.EchocardiographicVideoDataset import EchoViewVideoDataset\n",
    "\n",
    "YML_FILE = '/home/mx19/repositories/echocardiography/scripts/config_files/config_4cv.yml'    \n",
    "with open(YML_FILE, 'r') as yml:\n",
    "    config = yaml.load(yml, Loader=yaml.FullLoader)"
   ]
  },
  {
   "cell_type": "markdown",
   "id": "563b3729",
   "metadata": {
    "ExecuteTime": {
     "end_time": "2021-12-17T09:18:08.264310Z",
     "start_time": "2021-12-17T09:18:08.250178Z"
    }
   },
   "source": [
    "### Setting pytorch datasets"
   ]
  },
  {
   "cell_type": "code",
   "execution_count": 2,
   "id": "5109aecd",
   "metadata": {
    "ExecuteTime": {
     "end_time": "2021-12-17T12:19:32.766330Z",
     "start_time": "2021-12-17T12:18:43.434812Z"
    }
   },
   "outputs": [
    {
     "name": "stdout",
     "output_type": "stream",
     "text": [
      "  \n",
      "  \n",
      "  video_name=/home/mx19/datasets/vital-us/echocardiography/videos-echo/01NVb-003-072/T2/01NVb-003-072-2-echo-cont.mp4\n",
      "  Frame_height=1080, frame_width=1920 fps=30 nframes=20130 \n",
      "  jsonfile_name=/home/mx19/repositories/echocardiography/data/labelling/json_files/4CV/01NVb_003_072/01NVb_003_072_T2_4CV.json\n",
      "  number_of_labelled_clips=3\n",
      "  \n",
      "  \n"
     ]
    },
    {
     "name": "stderr",
     "output_type": "stream",
     "text": [
      " 53%|█████████████████████████████████████████████████████████████████████████████▍                                                                    | 10670/20130 [00:26<00:24, 380.35it/s]"
     ]
    },
    {
     "name": "stdout",
     "output_type": "stream",
     "text": [
      "  clip 0; image_frame_index 10610, frame_msec 354020.3333333333, current_frame_timestamp (5, 54, '20.333', '05:54:20.333')\n",
      "  clip 0; image_frame_index 10611, frame_msec 354053.7, current_frame_timestamp (5, 54, '53.700', '05:54:53.700')\n",
      "  clip 0; image_frame_index 10612, frame_msec 354087.06666666665, current_frame_timestamp (5, 54, '87.067', '05:54:87.067')\n",
      "  clip 0; image_frame_index 10613, frame_msec 354120.43333333335, current_frame_timestamp (5, 54, '120.433', '05:54:120.433')\n",
      "  clip 0; image_frame_index 10614, frame_msec 354153.8, current_frame_timestamp (5, 54, '153.800', '05:54:153.800')\n",
      "  clip 0; image_frame_index 10615, frame_msec 354187.1666666666, current_frame_timestamp (5, 54, '187.167', '05:54:187.167')\n",
      "  clip 0; image_frame_index 10616, frame_msec 354220.5333333334, current_frame_timestamp (5, 54, '220.533', '05:54:220.533')\n",
      "  clip 0; image_frame_index 10617, frame_msec 354253.9, current_frame_timestamp (5, 54, '253.900', '05:54:253.900')\n",
      "  clip 0; image_frame_index 10618, frame_msec 354287.2666666667, current_frame_timestamp (5, 54, '287.267', '05:54:287.267')\n",
      "  clip 0; image_frame_index 10619, frame_msec 354320.63333333336, current_frame_timestamp (5, 54, '320.633', '05:54:320.633')\n",
      "  clip 0; image_frame_index 10620, frame_msec 354354.00000000006, current_frame_timestamp (5, 54, '354.000', '05:54:354.000')\n",
      "  clip 0; image_frame_index 10621, frame_msec 354387.3666666667, current_frame_timestamp (5, 54, '387.367', '05:54:387.367')\n",
      "  clip 0; image_frame_index 10622, frame_msec 354420.7333333334, current_frame_timestamp (5, 54, '420.733', '05:54:420.733')\n",
      "  clip 0; image_frame_index 10623, frame_msec 354454.10000000003, current_frame_timestamp (5, 54, '454.100', '05:54:454.100')\n",
      "  clip 0; image_frame_index 10624, frame_msec 354487.46666666673, current_frame_timestamp (5, 54, '487.467', '05:54:487.467')\n",
      "  clip 0; image_frame_index 10625, frame_msec 354520.8333333334, current_frame_timestamp (5, 54, '520.833', '05:54:520.833')\n",
      "  clip 0; image_frame_index 10626, frame_msec 354554.2, current_frame_timestamp (5, 54, '554.200', '05:54:554.200')\n",
      "  clip 0; image_frame_index 10627, frame_msec 354587.5666666667, current_frame_timestamp (5, 54, '587.567', '05:54:587.567')\n",
      "  clip 0; image_frame_index 10628, frame_msec 354620.93333333335, current_frame_timestamp (5, 54, '620.933', '05:54:620.933')\n",
      "  clip 0; image_frame_index 10629, frame_msec 354654.30000000005, current_frame_timestamp (5, 54, '654.300', '05:54:654.300')\n",
      "  clip 0; image_frame_index 10630, frame_msec 354687.6666666667, current_frame_timestamp (5, 54, '687.667', '05:54:687.667')\n",
      "  clip 0; image_frame_index 10631, frame_msec 354721.0333333334, current_frame_timestamp (5, 54, '721.033', '05:54:721.033')\n",
      "  clip 0; image_frame_index 10632, frame_msec 354754.4, current_frame_timestamp (5, 54, '754.400', '05:54:754.400')\n",
      "  clip 0; image_frame_index 10633, frame_msec 354787.7666666667, current_frame_timestamp (5, 54, '787.767', '05:54:787.767')\n",
      "  clip 0; image_frame_index 10634, frame_msec 354821.13333333336, current_frame_timestamp (5, 54, '821.133', '05:54:821.133')\n",
      "  clip 0; image_frame_index 10635, frame_msec 354854.50000000006, current_frame_timestamp (5, 54, '854.500', '05:54:854.500')\n",
      "  clip 0; image_frame_index 10636, frame_msec 354887.8666666667, current_frame_timestamp (5, 54, '887.867', '05:54:887.867')\n",
      "  clip 0; image_frame_index 10637, frame_msec 354921.23333333334, current_frame_timestamp (5, 54, '921.233', '05:54:921.233')\n",
      "  clip 0; image_frame_index 10638, frame_msec 354954.60000000003, current_frame_timestamp (5, 54, '954.600', '05:54:954.600')\n",
      "  clip 0; image_frame_index 10639, frame_msec 354987.9666666667, current_frame_timestamp (5, 54, '987.967', '05:54:987.967')\n",
      "  clip 0; image_frame_index 10640, frame_msec 355021.3333333334, current_frame_timestamp (5, 55, '21.333', '05:55:21.333')\n",
      "  clip 0; image_frame_index 10641, frame_msec 355054.7, current_frame_timestamp (5, 55, '54.700', '05:55:54.700')\n",
      "  clip 0; image_frame_index 10642, frame_msec 355088.0666666667, current_frame_timestamp (5, 55, '88.067', '05:55:88.067')\n",
      "  clip 0; image_frame_index 10643, frame_msec 355121.43333333335, current_frame_timestamp (5, 55, '121.433', '05:55:121.433')\n",
      "  clip 0; image_frame_index 10644, frame_msec 355154.80000000005, current_frame_timestamp (5, 55, '154.800', '05:55:154.800')\n",
      "  clip 0; image_frame_index 10645, frame_msec 355188.1666666667, current_frame_timestamp (5, 55, '188.167', '05:55:188.167')\n",
      "  clip 0; image_frame_index 10646, frame_msec 355221.5333333333, current_frame_timestamp (5, 55, '221.533', '05:55:221.533')\n",
      "  clip 0; image_frame_index 10647, frame_msec 355254.9, current_frame_timestamp (5, 55, '254.900', '05:55:254.900')\n",
      "  clip 0; image_frame_index 10648, frame_msec 355288.26666666666, current_frame_timestamp (5, 55, '288.267', '05:55:288.267')\n",
      "  clip 0; image_frame_index 10649, frame_msec 355321.63333333336, current_frame_timestamp (5, 55, '321.633', '05:55:321.633')\n",
      "  clip 0; image_frame_index 10650, frame_msec 355355.0, current_frame_timestamp (5, 55, '355.000', '05:55:355.000')\n",
      "  clip 0; image_frame_index 10651, frame_msec 355388.3666666667, current_frame_timestamp (5, 55, '388.367', '05:55:388.367')\n",
      "  clip 0; image_frame_index 10652, frame_msec 355421.73333333334, current_frame_timestamp (5, 55, '421.733', '05:55:421.733')\n",
      "  clip 0; image_frame_index 10653, frame_msec 355455.10000000003, current_frame_timestamp (5, 55, '455.100', '05:55:455.100')\n",
      "  clip 0; image_frame_index 10654, frame_msec 355488.4666666667, current_frame_timestamp (5, 55, '488.467', '05:55:488.467')\n",
      "  clip 0; image_frame_index 10655, frame_msec 355521.8333333334, current_frame_timestamp (5, 55, '521.833', '05:55:521.833')\n",
      "  clip 0; image_frame_index 10656, frame_msec 355555.2, current_frame_timestamp (5, 55, '555.200', '05:55:555.200')\n",
      "  clip 0; image_frame_index 10657, frame_msec 355588.56666666665, current_frame_timestamp (5, 55, '588.567', '05:55:588.567')\n",
      "  clip 0; image_frame_index 10658, frame_msec 355621.93333333335, current_frame_timestamp (5, 55, '621.933', '05:55:621.933')\n",
      "  clip 0; image_frame_index 10659, frame_msec 355655.3, current_frame_timestamp (5, 55, '655.300', '05:55:655.300')\n",
      "  clip 0; image_frame_index 10660, frame_msec 355688.6666666667, current_frame_timestamp (5, 55, '688.667', '05:55:688.667')\n",
      "  clip 0; image_frame_index 10661, frame_msec 355722.0333333333, current_frame_timestamp (5, 55, '722.033', '05:55:722.033')\n",
      "  clip 0; image_frame_index 10662, frame_msec 355755.4, current_frame_timestamp (5, 55, '755.400', '05:55:755.400')\n",
      "  clip 0; image_frame_index 10663, frame_msec 355788.76666666666, current_frame_timestamp (5, 55, '788.767', '05:55:788.767')\n",
      "  clip 0; image_frame_index 10664, frame_msec 355822.13333333336, current_frame_timestamp (5, 55, '822.133', '05:55:822.133')\n",
      "  clip 0; image_frame_index 10665, frame_msec 355855.5, current_frame_timestamp (5, 55, '855.500', '05:55:855.500')\n",
      "  clip 0; image_frame_index 10666, frame_msec 355888.8666666667, current_frame_timestamp (5, 55, '888.867', '05:55:888.867')\n",
      "  clip 0; image_frame_index 10667, frame_msec 355922.23333333334, current_frame_timestamp (5, 55, '922.233', '05:55:922.233')\n",
      "  clip 0; image_frame_index 10668, frame_msec 355955.6, current_frame_timestamp (5, 55, '955.600', '05:55:955.600')\n",
      "  clip 0; image_frame_index 10669, frame_msec 355988.9666666667, current_frame_timestamp (5, 55, '988.967', '05:55:988.967')\n",
      "  clip 0; image_frame_index 10670, frame_msec 356022.3333333333, current_frame_timestamp (5, 56, '22.333', '05:56:22.333')\n",
      "  clip 0; image_frame_index 10671, frame_msec 356055.7, current_frame_timestamp (5, 56, '55.700', '05:56:55.700')\n",
      "  clip 0; image_frame_index 10672, frame_msec 356089.06666666665, current_frame_timestamp (5, 56, '89.067', '05:56:89.067')\n",
      "  clip 0; image_frame_index 10673, frame_msec 356122.43333333335, current_frame_timestamp (5, 56, '122.433', '05:56:122.433')\n",
      "  clip 0; image_frame_index 10674, frame_msec 356155.8, current_frame_timestamp (5, 56, '155.800', '05:56:155.800')\n",
      "  clip 0; image_frame_index 10675, frame_msec 356189.1666666667, current_frame_timestamp (5, 56, '189.167', '05:56:189.167')\n",
      "  clip 0; image_frame_index 10676, frame_msec 356222.5333333333, current_frame_timestamp (5, 56, '222.533', '05:56:222.533')\n",
      "  clip 0; image_frame_index 10677, frame_msec 356255.9, current_frame_timestamp (5, 56, '255.900', '05:56:255.900')\n",
      "  clip 0; image_frame_index 10678, frame_msec 356289.26666666666, current_frame_timestamp (5, 56, '289.267', '05:56:289.267')\n",
      "  clip 0; image_frame_index 10679, frame_msec 356322.6333333333, current_frame_timestamp (5, 56, '322.633', '05:56:322.633')\n",
      "  clip 0; image_frame_index 10680, frame_msec 356356.0, current_frame_timestamp (5, 56, '356.000', '05:56:356.000')\n",
      "  clip 0; image_frame_index 10681, frame_msec 356389.36666666664, current_frame_timestamp (5, 56, '389.367', '05:56:389.367')\n"
     ]
    },
    {
     "name": "stderr",
     "output_type": "stream",
     "text": [
      " 53%|█████████████████████████████████████████████████████████████████████████████▉                                                                    | 10747/20130 [00:26<00:25, 363.86it/s]"
     ]
    },
    {
     "name": "stdout",
     "output_type": "stream",
     "text": [
      "  clip 0; image_frame_index 10682, frame_msec 356422.73333333334, current_frame_timestamp (5, 56, '422.733', '05:56:422.733')\n",
      "  clip 0; image_frame_index 10683, frame_msec 356456.1, current_frame_timestamp (5, 56, '456.100', '05:56:456.100')\n",
      "  clip 0; image_frame_index 10684, frame_msec 356489.4666666667, current_frame_timestamp (5, 56, '489.467', '05:56:489.467')\n",
      "  clip 0; image_frame_index 10685, frame_msec 356522.8333333333, current_frame_timestamp (5, 56, '522.833', '05:56:522.833')\n",
      "  clip 0; image_frame_index 10686, frame_msec 356556.2, current_frame_timestamp (5, 56, '556.200', '05:56:556.200')\n",
      "  clip 0; image_frame_index 10687, frame_msec 356589.56666666665, current_frame_timestamp (5, 56, '589.567', '05:56:589.567')\n",
      "  clip 0; image_frame_index 10688, frame_msec 356622.9333333334, current_frame_timestamp (5, 56, '622.933', '05:56:622.933')\n",
      "  clip 0; image_frame_index 10689, frame_msec 356656.30000000005, current_frame_timestamp (5, 56, '656.300', '05:56:656.300')\n",
      "  clip 0; image_frame_index 10690, frame_msec 356689.6666666667, current_frame_timestamp (5, 56, '689.667', '05:56:689.667')\n",
      "  clip 0; image_frame_index 10691, frame_msec 356723.0333333334, current_frame_timestamp (5, 56, '723.033', '05:56:723.033')\n",
      "  clip 0; image_frame_index 10692, frame_msec 356756.4, current_frame_timestamp (5, 56, '756.400', '05:56:756.400')\n",
      "  clip 0; image_frame_index 10693, frame_msec 356789.7666666667, current_frame_timestamp (5, 56, '789.767', '05:56:789.767')\n",
      "  clip 0; image_frame_index 10694, frame_msec 356823.13333333336, current_frame_timestamp (5, 56, '823.133', '05:56:823.133')\n",
      "  clip 0; image_frame_index 10695, frame_msec 356856.50000000006, current_frame_timestamp (5, 56, '856.500', '05:56:856.500')\n",
      "  clip 0; image_frame_index 10696, frame_msec 356889.8666666667, current_frame_timestamp (5, 56, '889.867', '05:56:889.867')\n",
      "  clip 0; image_frame_index 10697, frame_msec 356923.2333333334, current_frame_timestamp (5, 56, '923.233', '05:56:923.233')\n",
      "  clip 0; image_frame_index 10698, frame_msec 356956.60000000003, current_frame_timestamp (5, 56, '956.600', '05:56:956.600')\n",
      "  clip 0; image_frame_index 10699, frame_msec 356989.9666666667, current_frame_timestamp (5, 56, '989.967', '05:56:989.967')\n",
      "  clip 0; image_frame_index 10700, frame_msec 357023.3333333334, current_frame_timestamp (5, 57, '23.333', '05:57:23.333')\n",
      "  clip 0; image_frame_index 10701, frame_msec 357056.7, current_frame_timestamp (5, 57, '56.700', '05:57:56.700')\n",
      "  clip 0; image_frame_index 10702, frame_msec 357090.0666666667, current_frame_timestamp (5, 57, '90.067', '05:57:90.067')\n",
      "  clip 0; image_frame_index 10703, frame_msec 357123.43333333335, current_frame_timestamp (5, 57, '123.433', '05:57:123.433')\n",
      "  clip 0; image_frame_index 10704, frame_msec 357156.80000000005, current_frame_timestamp (5, 57, '156.800', '05:57:156.800')\n",
      "  clip 0; image_frame_index 10705, frame_msec 357190.1666666667, current_frame_timestamp (5, 57, '190.167', '05:57:190.167')\n",
      "  clip 0; image_frame_index 10706, frame_msec 357223.5333333334, current_frame_timestamp (5, 57, '223.533', '05:57:223.533')\n",
      "  clip 0; image_frame_index 10707, frame_msec 357256.9, current_frame_timestamp (5, 57, '256.900', '05:57:256.900')\n",
      "  clip 0; image_frame_index 10708, frame_msec 357290.2666666667, current_frame_timestamp (5, 57, '290.267', '05:57:290.267')\n",
      "  clip 0; image_frame_index 10709, frame_msec 357323.63333333336, current_frame_timestamp (5, 57, '323.633', '05:57:323.633')\n",
      "  clip 0; image_frame_index 10710, frame_msec 357357.0, current_frame_timestamp (5, 57, '357.000', '05:57:357.000')\n",
      "  clip 0; image_frame_index 10711, frame_msec 357390.3666666667, current_frame_timestamp (5, 57, '390.367', '05:57:390.367')\n",
      "  clip 0; image_frame_index 10712, frame_msec 357423.73333333334, current_frame_timestamp (5, 57, '423.733', '05:57:423.733')\n",
      "  clip 0; image_frame_index 10713, frame_msec 357457.10000000003, current_frame_timestamp (5, 57, '457.100', '05:57:457.100')\n",
      "  clip 0; image_frame_index 10714, frame_msec 357490.4666666667, current_frame_timestamp (5, 57, '490.467', '05:57:490.467')\n",
      "  clip 0; image_frame_index 10715, frame_msec 357523.8333333334, current_frame_timestamp (5, 57, '523.833', '05:57:523.833')\n",
      "  clip 0; image_frame_index 10716, frame_msec 357557.2, current_frame_timestamp (5, 57, '557.200', '05:57:557.200')\n",
      "  clip 0; image_frame_index 10717, frame_msec 357590.5666666667, current_frame_timestamp (5, 57, '590.567', '05:57:590.567')\n",
      "  clip 0; image_frame_index 10718, frame_msec 357623.93333333335, current_frame_timestamp (5, 57, '623.933', '05:57:623.933')\n",
      "  clip 0; image_frame_index 10719, frame_msec 357657.30000000005, current_frame_timestamp (5, 57, '657.300', '05:57:657.300')\n",
      "  clip 0; image_frame_index 10720, frame_msec 357690.6666666667, current_frame_timestamp (5, 57, '690.667', '05:57:690.667')\n",
      "  clip 0; image_frame_index 10721, frame_msec 357724.0333333333, current_frame_timestamp (5, 57, '724.033', '05:57:724.033')\n",
      "  clip 0; image_frame_index 10722, frame_msec 357757.4, current_frame_timestamp (5, 57, '757.400', '05:57:757.400')\n",
      "  clip 0; image_frame_index 10723, frame_msec 357790.76666666666, current_frame_timestamp (5, 57, '790.767', '05:57:790.767')\n",
      "  clip 0; image_frame_index 10724, frame_msec 357824.13333333336, current_frame_timestamp (5, 57, '824.133', '05:57:824.133')\n",
      "  clip 0; image_frame_index 10725, frame_msec 357857.5, current_frame_timestamp (5, 57, '857.500', '05:57:857.500')\n",
      "  clip 0; image_frame_index 10726, frame_msec 357890.8666666667, current_frame_timestamp (5, 57, '890.867', '05:57:890.867')\n",
      "  clip 0; image_frame_index 10727, frame_msec 357924.23333333334, current_frame_timestamp (5, 57, '924.233', '05:57:924.233')\n",
      "  clip 0; image_frame_index 10728, frame_msec 357957.60000000003, current_frame_timestamp (5, 57, '957.600', '05:57:957.600')\n",
      "  clip 0; image_frame_index 10729, frame_msec 357990.9666666667, current_frame_timestamp (5, 57, '990.967', '05:57:990.967')\n",
      "  clip 0; image_frame_index 10730, frame_msec 358024.3333333334, current_frame_timestamp (5, 58, '24.333', '05:58:24.333')\n",
      "  clip 0; image_frame_index 10731, frame_msec 358057.7, current_frame_timestamp (5, 58, '57.700', '05:58:57.700')\n",
      "  clip 0; image_frame_index 10732, frame_msec 358091.06666666665, current_frame_timestamp (5, 58, '91.067', '05:58:91.067')\n",
      "  clip 0; image_frame_index 10733, frame_msec 358124.43333333335, current_frame_timestamp (5, 58, '124.433', '05:58:124.433')\n",
      "  clip 0; image_frame_index 10734, frame_msec 358157.8, current_frame_timestamp (5, 58, '157.800', '05:58:157.800')\n",
      "  clip 0; image_frame_index 10735, frame_msec 358191.1666666667, current_frame_timestamp (5, 58, '191.167', '05:58:191.167')\n",
      "  clip 0; image_frame_index 10736, frame_msec 358224.5333333333, current_frame_timestamp (5, 58, '224.533', '05:58:224.533')\n",
      "  clip 0; image_frame_index 10737, frame_msec 358257.9, current_frame_timestamp (5, 58, '257.900', '05:58:257.900')\n",
      "  clip 0; image_frame_index 10738, frame_msec 358291.26666666666, current_frame_timestamp (5, 58, '291.267', '05:58:291.267')\n",
      "  clip 0; image_frame_index 10739, frame_msec 358324.63333333336, current_frame_timestamp (5, 58, '324.633', '05:58:324.633')\n",
      "  clip 0; image_frame_index 10740, frame_msec 358358.0, current_frame_timestamp (5, 58, '358.000', '05:58:358.000')\n",
      "  clip 0; image_frame_index 10741, frame_msec 358391.3666666667, current_frame_timestamp (5, 58, '391.367', '05:58:391.367')\n",
      "  clip 0; image_frame_index 10742, frame_msec 358424.73333333334, current_frame_timestamp (5, 58, '424.733', '05:58:424.733')\n",
      "  clip 0; image_frame_index 10743, frame_msec 358458.1, current_frame_timestamp (5, 58, '458.100', '05:58:458.100')\n",
      "  clip 0; image_frame_index 10744, frame_msec 358491.4666666667, current_frame_timestamp (5, 58, '491.467', '05:58:491.467')\n",
      "  clip 0; image_frame_index 10745, frame_msec 358524.8333333333, current_frame_timestamp (5, 58, '524.833', '05:58:524.833')\n",
      "  clip 0; image_frame_index 10746, frame_msec 358558.2, current_frame_timestamp (5, 58, '558.200', '05:58:558.200')\n",
      "  clip 0; image_frame_index 10747, frame_msec 358591.56666666665, current_frame_timestamp (5, 58, '591.567', '05:58:591.567')\n",
      "  clip 0; image_frame_index 10748, frame_msec 358624.93333333335, current_frame_timestamp (5, 58, '624.933', '05:58:624.933')\n",
      "  clip 0; image_frame_index 10749, frame_msec 358658.3, current_frame_timestamp (5, 58, '658.300', '05:58:658.300')\n",
      "  clip 0; image_frame_index 10750, frame_msec 358691.6666666667, current_frame_timestamp (5, 58, '691.667', '05:58:691.667')\n",
      "  clip 0; image_frame_index 10751, frame_msec 358725.0333333333, current_frame_timestamp (5, 58, '725.033', '05:58:725.033')\n"
     ]
    },
    {
     "name": "stderr",
     "output_type": "stream",
     "text": [
      " 54%|██████████████████████████████████████████████████████████████████████████████▍                                                                   | 10823/20130 [00:26<00:25, 367.54it/s]"
     ]
    },
    {
     "name": "stdout",
     "output_type": "stream",
     "text": [
      "  clip 0; image_frame_index 10752, frame_msec 358758.4, current_frame_timestamp (5, 58, '758.400', '05:58:758.400')\n",
      "  clip 0; image_frame_index 10753, frame_msec 358791.76666666666, current_frame_timestamp (5, 58, '791.767', '05:58:791.767')\n",
      "  clip 0; image_frame_index 10754, frame_msec 358825.1333333333, current_frame_timestamp (5, 58, '825.133', '05:58:825.133')\n",
      "  clip 0; image_frame_index 10755, frame_msec 358858.5, current_frame_timestamp (5, 58, '858.500', '05:58:858.500')\n",
      "  clip 0; image_frame_index 10756, frame_msec 358891.86666666664, current_frame_timestamp (5, 58, '891.867', '05:58:891.867')\n",
      "  clip 0; image_frame_index 10757, frame_msec 358925.23333333334, current_frame_timestamp (5, 58, '925.233', '05:58:925.233')\n",
      "  clip 0; image_frame_index 10758, frame_msec 358958.6, current_frame_timestamp (5, 58, '958.600', '05:58:958.600')\n",
      "  clip 0; image_frame_index 10759, frame_msec 358991.9666666667, current_frame_timestamp (5, 58, '991.967', '05:58:991.967')\n",
      "  clip 0; image_frame_index 10760, frame_msec 359025.3333333334, current_frame_timestamp (5, 59, '25.333', '05:59:25.333')\n",
      "  clip 0; image_frame_index 10761, frame_msec 359058.70000000007, current_frame_timestamp (5, 59, '58.700', '05:59:58.700')\n",
      "  clip 0; image_frame_index 10762, frame_msec 359092.0666666667, current_frame_timestamp (5, 59, '92.067', '05:59:92.067')\n",
      "  clip 0; image_frame_index 10763, frame_msec 359125.43333333335, current_frame_timestamp (5, 59, '125.433', '05:59:125.433')\n",
      "  clip 0; image_frame_index 10764, frame_msec 359158.80000000005, current_frame_timestamp (5, 59, '158.800', '05:59:158.800')\n",
      "  clip 0; image_frame_index 10765, frame_msec 359192.1666666667, current_frame_timestamp (5, 59, '192.167', '05:59:192.167')\n",
      "  clip 0; image_frame_index 10766, frame_msec 359225.5333333334, current_frame_timestamp (5, 59, '225.533', '05:59:225.533')\n",
      "  clip 0; image_frame_index 10767, frame_msec 359258.9, current_frame_timestamp (5, 59, '258.900', '05:59:258.900')\n",
      "  clip 0; image_frame_index 10768, frame_msec 359292.2666666667, current_frame_timestamp (5, 59, '292.267', '05:59:292.267')\n",
      "  clip 0; image_frame_index 10769, frame_msec 359325.63333333336, current_frame_timestamp (5, 59, '325.633', '05:59:325.633')\n",
      "  clip 0; image_frame_index 10770, frame_msec 359359.00000000006, current_frame_timestamp (5, 59, '359.000', '05:59:359.000')\n",
      "  clip 0; image_frame_index 10771, frame_msec 359392.3666666667, current_frame_timestamp (5, 59, '392.367', '05:59:392.367')\n",
      "  clip 0; image_frame_index 10772, frame_msec 359425.7333333334, current_frame_timestamp (5, 59, '425.733', '05:59:425.733')\n",
      "  clip 0; image_frame_index 10773, frame_msec 359459.10000000003, current_frame_timestamp (5, 59, '459.100', '05:59:459.100')\n",
      "  clip 0; image_frame_index 10774, frame_msec 359492.4666666667, current_frame_timestamp (5, 59, '492.467', '05:59:492.467')\n",
      "  clip 0; image_frame_index 10775, frame_msec 359525.8333333334, current_frame_timestamp (5, 59, '525.833', '05:59:525.833')\n",
      "  clip 0; image_frame_index 10776, frame_msec 359559.2, current_frame_timestamp (5, 59, '559.200', '05:59:559.200')\n",
      "  clip 0; image_frame_index 10777, frame_msec 359592.5666666667, current_frame_timestamp (5, 59, '592.567', '05:59:592.567')\n",
      "  clip 0; image_frame_index 10778, frame_msec 359625.93333333335, current_frame_timestamp (5, 59, '625.933', '05:59:625.933')\n",
      "  clip 0; image_frame_index 10779, frame_msec 359659.30000000005, current_frame_timestamp (5, 59, '659.300', '05:59:659.300')\n",
      "  clip 0; image_frame_index 10780, frame_msec 359692.6666666667, current_frame_timestamp (5, 59, '692.667', '05:59:692.667')\n",
      "  clip 0; image_frame_index 10781, frame_msec 359726.0333333334, current_frame_timestamp (5, 59, '726.033', '05:59:726.033')\n",
      "  clip 0; image_frame_index 10782, frame_msec 359759.4, current_frame_timestamp (5, 59, '759.400', '05:59:759.400')\n",
      "  clip 0; image_frame_index 10783, frame_msec 359792.7666666667, current_frame_timestamp (5, 59, '792.767', '05:59:792.767')\n",
      "  clip 0; image_frame_index 10784, frame_msec 359826.13333333336, current_frame_timestamp (5, 59, '826.133', '05:59:826.133')\n",
      "  clip 0; image_frame_index 10785, frame_msec 359859.5, current_frame_timestamp (5, 59, '859.500', '05:59:859.500')\n",
      "  clip 0; image_frame_index 10786, frame_msec 359892.8666666667, current_frame_timestamp (5, 59, '892.867', '05:59:892.867')\n",
      "  clip 0; image_frame_index 10787, frame_msec 359926.23333333334, current_frame_timestamp (5, 59, '926.233', '05:59:926.233')\n",
      "  clip 0; image_frame_index 10788, frame_msec 359959.60000000003, current_frame_timestamp (5, 59, '959.600', '05:59:959.600')\n",
      "  clip 0; image_frame_index 10789, frame_msec 359992.9666666667, current_frame_timestamp (5, 59, '992.967', '05:59:992.967')\n"
     ]
    },
    {
     "name": "stderr",
     "output_type": "stream",
     "text": [
      " 70%|█████████████████████████████████████████████████████████████████████████████████████████████████████▋                                            | 14026/20130 [00:34<00:15, 402.01it/s]"
     ]
    },
    {
     "name": "stdout",
     "output_type": "stream",
     "text": [
      "  clip 1; image_frame_index 13967, frame_msec 466032.23333333334, current_frame_timestamp (7, 46, '32.233', '07:46:32.233')\n",
      "  clip 1; image_frame_index 13968, frame_msec 466065.60000000003, current_frame_timestamp (7, 46, '65.600', '07:46:65.600')\n",
      "  clip 1; image_frame_index 13969, frame_msec 466098.9666666667, current_frame_timestamp (7, 46, '98.967', '07:46:98.967')\n",
      "  clip 1; image_frame_index 13970, frame_msec 466132.3333333334, current_frame_timestamp (7, 46, '132.333', '07:46:132.333')\n",
      "  clip 1; image_frame_index 13971, frame_msec 466165.7, current_frame_timestamp (7, 46, '165.700', '07:46:165.700')\n",
      "  clip 1; image_frame_index 13972, frame_msec 466199.0666666667, current_frame_timestamp (7, 46, '199.067', '07:46:199.067')\n",
      "  clip 1; image_frame_index 13973, frame_msec 466232.43333333335, current_frame_timestamp (7, 46, '232.433', '07:46:232.433')\n",
      "  clip 1; image_frame_index 13974, frame_msec 466265.8, current_frame_timestamp (7, 46, '265.800', '07:46:265.800')\n",
      "  clip 1; image_frame_index 13975, frame_msec 466299.1666666667, current_frame_timestamp (7, 46, '299.167', '07:46:299.167')\n",
      "  clip 1; image_frame_index 13976, frame_msec 466332.5333333333, current_frame_timestamp (7, 46, '332.533', '07:46:332.533')\n",
      "  clip 1; image_frame_index 13977, frame_msec 466365.9, current_frame_timestamp (7, 46, '365.900', '07:46:365.900')\n",
      "  clip 1; image_frame_index 13978, frame_msec 466399.26666666666, current_frame_timestamp (7, 46, '399.267', '07:46:399.267')\n",
      "  clip 1; image_frame_index 13979, frame_msec 466432.63333333336, current_frame_timestamp (7, 46, '432.633', '07:46:432.633')\n",
      "  clip 1; image_frame_index 13980, frame_msec 466466.0, current_frame_timestamp (7, 46, '466.000', '07:46:466.000')\n",
      "  clip 1; image_frame_index 13981, frame_msec 466499.3666666667, current_frame_timestamp (7, 46, '499.367', '07:46:499.367')\n",
      "  clip 1; image_frame_index 13982, frame_msec 466532.73333333334, current_frame_timestamp (7, 46, '532.733', '07:46:532.733')\n",
      "  clip 1; image_frame_index 13983, frame_msec 466566.1, current_frame_timestamp (7, 46, '566.100', '07:46:566.100')\n",
      "  clip 1; image_frame_index 13984, frame_msec 466599.4666666667, current_frame_timestamp (7, 46, '599.467', '07:46:599.467')\n",
      "  clip 1; image_frame_index 13985, frame_msec 466632.8333333333, current_frame_timestamp (7, 46, '632.833', '07:46:632.833')\n",
      "  clip 1; image_frame_index 13986, frame_msec 466666.2, current_frame_timestamp (7, 46, '666.200', '07:46:666.200')\n",
      "  clip 1; image_frame_index 13987, frame_msec 466699.56666666665, current_frame_timestamp (7, 46, '699.567', '07:46:699.567')\n",
      "  clip 1; image_frame_index 13988, frame_msec 466732.93333333335, current_frame_timestamp (7, 46, '732.933', '07:46:732.933')\n",
      "  clip 1; image_frame_index 13989, frame_msec 466766.3, current_frame_timestamp (7, 46, '766.300', '07:46:766.300')\n",
      "  clip 1; image_frame_index 13990, frame_msec 466799.6666666667, current_frame_timestamp (7, 46, '799.667', '07:46:799.667')\n",
      "  clip 1; image_frame_index 13991, frame_msec 466833.0333333333, current_frame_timestamp (7, 46, '833.033', '07:46:833.033')\n",
      "  clip 1; image_frame_index 13992, frame_msec 466866.4, current_frame_timestamp (7, 46, '866.400', '07:46:866.400')\n",
      "  clip 1; image_frame_index 13993, frame_msec 466899.76666666666, current_frame_timestamp (7, 46, '899.767', '07:46:899.767')\n",
      "  clip 1; image_frame_index 13994, frame_msec 466933.1333333333, current_frame_timestamp (7, 46, '933.133', '07:46:933.133')\n",
      "  clip 1; image_frame_index 13995, frame_msec 466966.5, current_frame_timestamp (7, 46, '966.500', '07:46:966.500')\n",
      "  clip 1; image_frame_index 13996, frame_msec 466999.86666666664, current_frame_timestamp (7, 46, '999.867', '07:46:999.867')\n",
      "  clip 1; image_frame_index 13997, frame_msec 467033.23333333334, current_frame_timestamp (7, 47, '33.233', '07:47:33.233')\n",
      "  clip 1; image_frame_index 13998, frame_msec 467066.6, current_frame_timestamp (7, 47, '66.600', '07:47:66.600')\n",
      "  clip 1; image_frame_index 13999, frame_msec 467099.96666666673, current_frame_timestamp (7, 47, '99.967', '07:47:99.967')\n",
      "  clip 1; image_frame_index 14000, frame_msec 467133.3333333334, current_frame_timestamp (7, 47, '133.333', '07:47:133.333')\n",
      "  clip 1; image_frame_index 14001, frame_msec 467166.70000000007, current_frame_timestamp (7, 47, '166.700', '07:47:166.700')\n",
      "  clip 1; image_frame_index 14002, frame_msec 467200.0666666667, current_frame_timestamp (7, 47, '200.067', '07:47:200.067')\n",
      "  clip 1; image_frame_index 14003, frame_msec 467233.4333333334, current_frame_timestamp (7, 47, '233.433', '07:47:233.433')\n",
      "  clip 1; image_frame_index 14004, frame_msec 467266.80000000005, current_frame_timestamp (7, 47, '266.800', '07:47:266.800')\n",
      "  clip 1; image_frame_index 14005, frame_msec 467300.1666666667, current_frame_timestamp (7, 47, '300.167', '07:47:300.167')\n",
      "  clip 1; image_frame_index 14006, frame_msec 467333.5333333334, current_frame_timestamp (7, 47, '333.533', '07:47:333.533')\n",
      "  clip 1; image_frame_index 14007, frame_msec 467366.9, current_frame_timestamp (7, 47, '366.900', '07:47:366.900')\n",
      "  clip 1; image_frame_index 14008, frame_msec 467400.2666666667, current_frame_timestamp (7, 47, '400.267', '07:47:400.267')\n",
      "  clip 1; image_frame_index 14009, frame_msec 467433.63333333336, current_frame_timestamp (7, 47, '433.633', '07:47:433.633')\n",
      "  clip 1; image_frame_index 14010, frame_msec 467467.00000000006, current_frame_timestamp (7, 47, '467.000', '07:47:467.000')\n",
      "  clip 1; image_frame_index 14011, frame_msec 467500.3666666667, current_frame_timestamp (7, 47, '500.367', '07:47:500.367')\n",
      "  clip 1; image_frame_index 14012, frame_msec 467533.7333333334, current_frame_timestamp (7, 47, '533.733', '07:47:533.733')\n",
      "  clip 1; image_frame_index 14013, frame_msec 467567.10000000003, current_frame_timestamp (7, 47, '567.100', '07:47:567.100')\n",
      "  clip 1; image_frame_index 14014, frame_msec 467600.46666666673, current_frame_timestamp (7, 47, '600.467', '07:47:600.467')\n",
      "  clip 1; image_frame_index 14015, frame_msec 467633.8333333334, current_frame_timestamp (7, 47, '633.833', '07:47:633.833')\n",
      "  clip 1; image_frame_index 14016, frame_msec 467667.2, current_frame_timestamp (7, 47, '667.200', '07:47:667.200')\n",
      "  clip 1; image_frame_index 14017, frame_msec 467700.5666666667, current_frame_timestamp (7, 47, '700.567', '07:47:700.567')\n",
      "  clip 1; image_frame_index 14018, frame_msec 467733.93333333335, current_frame_timestamp (7, 47, '733.933', '07:47:733.933')\n",
      "  clip 1; image_frame_index 14019, frame_msec 467767.30000000005, current_frame_timestamp (7, 47, '767.300', '07:47:767.300')\n",
      "  clip 1; image_frame_index 14020, frame_msec 467800.6666666667, current_frame_timestamp (7, 47, '800.667', '07:47:800.667')\n",
      "  clip 1; image_frame_index 14021, frame_msec 467834.0333333334, current_frame_timestamp (7, 47, '834.033', '07:47:834.033')\n",
      "  clip 1; image_frame_index 14022, frame_msec 467867.4, current_frame_timestamp (7, 47, '867.400', '07:47:867.400')\n",
      "  clip 1; image_frame_index 14023, frame_msec 467900.7666666667, current_frame_timestamp (7, 47, '900.767', '07:47:900.767')\n",
      "  clip 1; image_frame_index 14024, frame_msec 467934.13333333336, current_frame_timestamp (7, 47, '934.133', '07:47:934.133')\n",
      "  clip 1; image_frame_index 14025, frame_msec 467967.50000000006, current_frame_timestamp (7, 47, '967.500', '07:47:967.500')\n",
      "  clip 1; image_frame_index 14026, frame_msec 468000.8666666667, current_frame_timestamp (7, 48, '0.867', '07:48:0.867')\n",
      "  clip 1; image_frame_index 14027, frame_msec 468034.23333333334, current_frame_timestamp (7, 48, '34.233', '07:48:34.233')\n",
      "  clip 1; image_frame_index 14028, frame_msec 468067.60000000003, current_frame_timestamp (7, 48, '67.600', '07:48:67.600')\n",
      "  clip 1; image_frame_index 14029, frame_msec 468100.9666666667, current_frame_timestamp (7, 48, '100.967', '07:48:100.967')\n",
      "  clip 1; image_frame_index 14030, frame_msec 468134.3333333334, current_frame_timestamp (7, 48, '134.333', '07:48:134.333')\n",
      "  clip 1; image_frame_index 14031, frame_msec 468167.7, current_frame_timestamp (7, 48, '167.700', '07:48:167.700')\n",
      "  clip 1; image_frame_index 14032, frame_msec 468201.0666666667, current_frame_timestamp (7, 48, '201.067', '07:48:201.067')\n",
      "  clip 1; image_frame_index 14033, frame_msec 468234.43333333335, current_frame_timestamp (7, 48, '234.433', '07:48:234.433')\n",
      "  clip 1; image_frame_index 14034, frame_msec 468267.80000000005, current_frame_timestamp (7, 48, '267.800', '07:48:267.800')\n",
      "  clip 1; image_frame_index 14035, frame_msec 468301.1666666667, current_frame_timestamp (7, 48, '301.167', '07:48:301.167')\n",
      "  clip 1; image_frame_index 14036, frame_msec 468334.5333333333, current_frame_timestamp (7, 48, '334.533', '07:48:334.533')\n",
      "  clip 1; image_frame_index 14037, frame_msec 468367.9, current_frame_timestamp (7, 48, '367.900', '07:48:367.900')\n"
     ]
    },
    {
     "name": "stderr",
     "output_type": "stream",
     "text": [
      " 70%|██████████████████████████████████████████████████████████████████████████████████████████████████████▎                                           | 14107/20130 [00:34<00:15, 382.42it/s]"
     ]
    },
    {
     "name": "stdout",
     "output_type": "stream",
     "text": [
      "  clip 1; image_frame_index 14038, frame_msec 468401.26666666666, current_frame_timestamp (7, 48, '401.267', '07:48:401.267')\n",
      "  clip 1; image_frame_index 14039, frame_msec 468434.63333333336, current_frame_timestamp (7, 48, '434.633', '07:48:434.633')\n",
      "  clip 1; image_frame_index 14040, frame_msec 468468.0, current_frame_timestamp (7, 48, '468.000', '07:48:468.000')\n",
      "  clip 1; image_frame_index 14041, frame_msec 468501.3666666667, current_frame_timestamp (7, 48, '501.367', '07:48:501.367')\n",
      "  clip 1; image_frame_index 14042, frame_msec 468534.73333333334, current_frame_timestamp (7, 48, '534.733', '07:48:534.733')\n",
      "  clip 1; image_frame_index 14043, frame_msec 468568.10000000003, current_frame_timestamp (7, 48, '568.100', '07:48:568.100')\n",
      "  clip 1; image_frame_index 14044, frame_msec 468601.4666666667, current_frame_timestamp (7, 48, '601.467', '07:48:601.467')\n",
      "  clip 1; image_frame_index 14045, frame_msec 468634.8333333334, current_frame_timestamp (7, 48, '634.833', '07:48:634.833')\n",
      "  clip 1; image_frame_index 14046, frame_msec 468668.2, current_frame_timestamp (7, 48, '668.200', '07:48:668.200')\n",
      "  clip 1; image_frame_index 14047, frame_msec 468701.56666666665, current_frame_timestamp (7, 48, '701.567', '07:48:701.567')\n",
      "  clip 1; image_frame_index 14048, frame_msec 468734.93333333335, current_frame_timestamp (7, 48, '734.933', '07:48:734.933')\n",
      "  clip 1; image_frame_index 14049, frame_msec 468768.3, current_frame_timestamp (7, 48, '768.300', '07:48:768.300')\n",
      "  clip 1; image_frame_index 14050, frame_msec 468801.6666666667, current_frame_timestamp (7, 48, '801.667', '07:48:801.667')\n",
      "  clip 1; image_frame_index 14051, frame_msec 468835.0333333333, current_frame_timestamp (7, 48, '835.033', '07:48:835.033')\n",
      "  clip 1; image_frame_index 14052, frame_msec 468868.4, current_frame_timestamp (7, 48, '868.400', '07:48:868.400')\n",
      "  clip 1; image_frame_index 14053, frame_msec 468901.76666666666, current_frame_timestamp (7, 48, '901.767', '07:48:901.767')\n",
      "  clip 1; image_frame_index 14054, frame_msec 468935.13333333336, current_frame_timestamp (7, 48, '935.133', '07:48:935.133')\n",
      "  clip 1; image_frame_index 14055, frame_msec 468968.5, current_frame_timestamp (7, 48, '968.500', '07:48:968.500')\n",
      "  clip 2; image_frame_index 14086, frame_msec 470002.8666666667, current_frame_timestamp (7, 50, '2.867', '07:50:2.867')\n",
      "  clip 2; image_frame_index 14087, frame_msec 470036.2333333334, current_frame_timestamp (7, 50, '36.233', '07:50:36.233')\n",
      "  clip 2; image_frame_index 14088, frame_msec 470069.60000000003, current_frame_timestamp (7, 50, '69.600', '07:50:69.600')\n",
      "  clip 2; image_frame_index 14089, frame_msec 470102.9666666667, current_frame_timestamp (7, 50, '102.967', '07:50:102.967')\n",
      "  clip 2; image_frame_index 14090, frame_msec 470136.3333333334, current_frame_timestamp (7, 50, '136.333', '07:50:136.333')\n",
      "  clip 2; image_frame_index 14091, frame_msec 470169.7, current_frame_timestamp (7, 50, '169.700', '07:50:169.700')\n",
      "  clip 2; image_frame_index 14092, frame_msec 470203.0666666667, current_frame_timestamp (7, 50, '203.067', '07:50:203.067')\n",
      "  clip 2; image_frame_index 14093, frame_msec 470236.43333333335, current_frame_timestamp (7, 50, '236.433', '07:50:236.433')\n",
      "  clip 2; image_frame_index 14094, frame_msec 470269.80000000005, current_frame_timestamp (7, 50, '269.800', '07:50:269.800')\n",
      "  clip 2; image_frame_index 14095, frame_msec 470303.1666666667, current_frame_timestamp (7, 50, '303.167', '07:50:303.167')\n",
      "  clip 2; image_frame_index 14096, frame_msec 470336.5333333334, current_frame_timestamp (7, 50, '336.533', '07:50:336.533')\n",
      "  clip 2; image_frame_index 14097, frame_msec 470369.9, current_frame_timestamp (7, 50, '369.900', '07:50:369.900')\n",
      "  clip 2; image_frame_index 14098, frame_msec 470403.2666666667, current_frame_timestamp (7, 50, '403.267', '07:50:403.267')\n",
      "  clip 2; image_frame_index 14099, frame_msec 470436.63333333336, current_frame_timestamp (7, 50, '436.633', '07:50:436.633')\n",
      "  clip 2; image_frame_index 14100, frame_msec 470470.0, current_frame_timestamp (7, 50, '470.000', '07:50:470.000')\n",
      "  clip 2; image_frame_index 14101, frame_msec 470503.3666666667, current_frame_timestamp (7, 50, '503.367', '07:50:503.367')\n",
      "  clip 2; image_frame_index 14102, frame_msec 470536.73333333334, current_frame_timestamp (7, 50, '536.733', '07:50:536.733')\n",
      "  clip 2; image_frame_index 14103, frame_msec 470570.10000000003, current_frame_timestamp (7, 50, '570.100', '07:50:570.100')\n",
      "  clip 2; image_frame_index 14104, frame_msec 470603.4666666667, current_frame_timestamp (7, 50, '603.467', '07:50:603.467')\n",
      "  clip 2; image_frame_index 14105, frame_msec 470636.8333333334, current_frame_timestamp (7, 50, '636.833', '07:50:636.833')\n",
      "  clip 2; image_frame_index 14106, frame_msec 470670.2, current_frame_timestamp (7, 50, '670.200', '07:50:670.200')\n",
      "  clip 2; image_frame_index 14107, frame_msec 470703.5666666667, current_frame_timestamp (7, 50, '703.567', '07:50:703.567')\n",
      "  clip 2; image_frame_index 14108, frame_msec 470736.93333333335, current_frame_timestamp (7, 50, '736.933', '07:50:736.933')\n",
      "  clip 2; image_frame_index 14109, frame_msec 470770.30000000005, current_frame_timestamp (7, 50, '770.300', '07:50:770.300')\n",
      "  clip 2; image_frame_index 14110, frame_msec 470803.6666666667, current_frame_timestamp (7, 50, '803.667', '07:50:803.667')\n",
      "  clip 2; image_frame_index 14111, frame_msec 470837.0333333333, current_frame_timestamp (7, 50, '837.033', '07:50:837.033')\n"
     ]
    },
    {
     "name": "stderr",
     "output_type": "stream",
     "text": [
      "\r",
      " 70%|██████████████████████████████████████████████████████████████████████████████████████████████████████▌                                           | 14146/20130 [00:34<00:16, 369.11it/s]"
     ]
    },
    {
     "name": "stdout",
     "output_type": "stream",
     "text": [
      "  clip 2; image_frame_index 14112, frame_msec 470870.4, current_frame_timestamp (7, 50, '870.400', '07:50:870.400')\n",
      "  clip 2; image_frame_index 14113, frame_msec 470903.76666666666, current_frame_timestamp (7, 50, '903.767', '07:50:903.767')\n",
      "  clip 2; image_frame_index 14114, frame_msec 470937.13333333336, current_frame_timestamp (7, 50, '937.133', '07:50:937.133')\n",
      "  clip 2; image_frame_index 14115, frame_msec 470970.5, current_frame_timestamp (7, 50, '970.500', '07:50:970.500')\n",
      "  clip 2; image_frame_index 14116, frame_msec 471003.8666666667, current_frame_timestamp (7, 51, '3.867', '07:51:3.867')\n",
      "  clip 2; image_frame_index 14117, frame_msec 471037.23333333334, current_frame_timestamp (7, 51, '37.233', '07:51:37.233')\n",
      "  clip 2; image_frame_index 14118, frame_msec 471070.60000000003, current_frame_timestamp (7, 51, '70.600', '07:51:70.600')\n",
      "  clip 2; image_frame_index 14119, frame_msec 471103.9666666667, current_frame_timestamp (7, 51, '103.967', '07:51:103.967')\n",
      "  clip 2; image_frame_index 14120, frame_msec 471137.3333333334, current_frame_timestamp (7, 51, '137.333', '07:51:137.333')\n",
      "  clip 2; image_frame_index 14121, frame_msec 471170.7, current_frame_timestamp (7, 51, '170.700', '07:51:170.700')\n",
      "  clip 2; image_frame_index 14122, frame_msec 471204.06666666665, current_frame_timestamp (7, 51, '204.067', '07:51:204.067')\n",
      "  clip 2; image_frame_index 14123, frame_msec 471237.43333333335, current_frame_timestamp (7, 51, '237.433', '07:51:237.433')\n",
      "  clip 2; image_frame_index 14124, frame_msec 471270.8, current_frame_timestamp (7, 51, '270.800', '07:51:270.800')\n",
      "  clip 2; image_frame_index 14125, frame_msec 471304.1666666667, current_frame_timestamp (7, 51, '304.167', '07:51:304.167')\n",
      "  clip 2; image_frame_index 14126, frame_msec 471337.5333333333, current_frame_timestamp (7, 51, '337.533', '07:51:337.533')\n",
      "  clip 2; image_frame_index 14127, frame_msec 471370.9, current_frame_timestamp (7, 51, '370.900', '07:51:370.900')\n",
      "  clip 2; image_frame_index 14128, frame_msec 471404.26666666666, current_frame_timestamp (7, 51, '404.267', '07:51:404.267')\n",
      "  clip 2; image_frame_index 14129, frame_msec 471437.63333333336, current_frame_timestamp (7, 51, '437.633', '07:51:437.633')\n",
      "  clip 2; image_frame_index 14130, frame_msec 471471.0, current_frame_timestamp (7, 51, '471.000', '07:51:471.000')\n",
      "  clip 2; image_frame_index 14131, frame_msec 471504.3666666667, current_frame_timestamp (7, 51, '504.367', '07:51:504.367')\n",
      "  clip 2; image_frame_index 14132, frame_msec 471537.73333333334, current_frame_timestamp (7, 51, '537.733', '07:51:537.733')\n",
      "  clip 2; image_frame_index 14133, frame_msec 471571.1, current_frame_timestamp (7, 51, '571.100', '07:51:571.100')\n",
      "  clip 2; image_frame_index 14134, frame_msec 471604.4666666667, current_frame_timestamp (7, 51, '604.467', '07:51:604.467')\n",
      "  clip 2; image_frame_index 14135, frame_msec 471637.8333333333, current_frame_timestamp (7, 51, '637.833', '07:51:637.833')\n",
      "  clip 2; image_frame_index 14136, frame_msec 471671.2, current_frame_timestamp (7, 51, '671.200', '07:51:671.200')\n",
      "  clip 2; image_frame_index 14137, frame_msec 471704.56666666665, current_frame_timestamp (7, 51, '704.567', '07:51:704.567')\n",
      "  clip 2; image_frame_index 14138, frame_msec 471737.93333333335, current_frame_timestamp (7, 51, '737.933', '07:51:737.933')\n",
      "  clip 2; image_frame_index 14139, frame_msec 471771.3, current_frame_timestamp (7, 51, '771.300', '07:51:771.300')\n",
      "  clip 2; image_frame_index 14140, frame_msec 471804.6666666667, current_frame_timestamp (7, 51, '804.667', '07:51:804.667')\n",
      "  clip 2; image_frame_index 14141, frame_msec 471838.0333333333, current_frame_timestamp (7, 51, '838.033', '07:51:838.033')\n",
      "  clip 2; image_frame_index 14142, frame_msec 471871.4, current_frame_timestamp (7, 51, '871.400', '07:51:871.400')\n",
      "  clip 2; image_frame_index 14143, frame_msec 471904.7666666667, current_frame_timestamp (7, 51, '904.767', '07:51:904.767')\n",
      "  clip 2; image_frame_index 14144, frame_msec 471938.13333333336, current_frame_timestamp (7, 51, '938.133', '07:51:938.133')\n",
      "  clip 2; image_frame_index 14145, frame_msec 471971.50000000006, current_frame_timestamp (7, 51, '971.500', '07:51:971.500')\n",
      "  clip 2; image_frame_index 14146, frame_msec 472004.8666666667, current_frame_timestamp (7, 52, '4.867', '07:52:4.867')\n",
      "  clip 2; image_frame_index 14147, frame_msec 472038.2333333334, current_frame_timestamp (7, 52, '38.233', '07:52:38.233')\n",
      "  clip 2; image_frame_index 14148, frame_msec 472071.60000000003, current_frame_timestamp (7, 52, '71.600', '07:52:71.600')\n",
      "  clip 2; image_frame_index 14149, frame_msec 472104.96666666673, current_frame_timestamp (7, 52, '104.967', '07:52:104.967')\n",
      "  clip 2; image_frame_index 14150, frame_msec 472138.3333333334, current_frame_timestamp (7, 52, '138.333', '07:52:138.333')\n",
      "  clip 2; image_frame_index 14151, frame_msec 472171.70000000007, current_frame_timestamp (7, 52, '171.700', '07:52:171.700')\n",
      "  clip 2; image_frame_index 14152, frame_msec 472205.0666666667, current_frame_timestamp (7, 52, '205.067', '07:52:205.067')\n",
      "  clip 2; image_frame_index 14153, frame_msec 472238.43333333335, current_frame_timestamp (7, 52, '238.433', '07:52:238.433')\n",
      "  clip 2; image_frame_index 14154, frame_msec 472271.80000000005, current_frame_timestamp (7, 52, '271.800', '07:52:271.800')\n",
      "  clip 2; image_frame_index 14155, frame_msec 472305.1666666667, current_frame_timestamp (7, 52, '305.167', '07:52:305.167')\n",
      "  clip 2; image_frame_index 14156, frame_msec 472338.5333333334, current_frame_timestamp (7, 52, '338.533', '07:52:338.533')\n",
      "  clip 2; image_frame_index 14157, frame_msec 472371.9, current_frame_timestamp (7, 52, '371.900', '07:52:371.900')\n",
      "  clip 2; image_frame_index 14158, frame_msec 472405.2666666667, current_frame_timestamp (7, 52, '405.267', '07:52:405.267')\n",
      "  clip 2; image_frame_index 14159, frame_msec 472438.63333333336, current_frame_timestamp (7, 52, '438.633', '07:52:438.633')\n",
      "  clip 2; image_frame_index 14160, frame_msec 472472.00000000006, current_frame_timestamp (7, 52, '472.000', '07:52:472.000')\n",
      "  clip 2; image_frame_index 14161, frame_msec 472505.3666666667, current_frame_timestamp (7, 52, '505.367', '07:52:505.367')\n",
      "  clip 2; image_frame_index 14162, frame_msec 472538.7333333334, current_frame_timestamp (7, 52, '538.733', '07:52:538.733')\n",
      "  clip 2; image_frame_index 14163, frame_msec 472572.10000000003, current_frame_timestamp (7, 52, '572.100', '07:52:572.100')\n",
      "  clip 2; image_frame_index 14164, frame_msec 472605.4666666667, current_frame_timestamp (7, 52, '605.467', '07:52:605.467')\n",
      "  clip 2; image_frame_index 14165, frame_msec 472638.8333333334, current_frame_timestamp (7, 52, '638.833', '07:52:638.833')\n",
      "  clip 2; image_frame_index 14166, frame_msec 472672.2, current_frame_timestamp (7, 52, '672.200', '07:52:672.200')\n",
      "  clip 2; image_frame_index 14167, frame_msec 472705.5666666667, current_frame_timestamp (7, 52, '705.567', '07:52:705.567')\n",
      "  clip 2; image_frame_index 14168, frame_msec 472738.93333333335, current_frame_timestamp (7, 52, '738.933', '07:52:738.933')\n",
      "  clip 2; image_frame_index 14169, frame_msec 472772.30000000005, current_frame_timestamp (7, 52, '772.300', '07:52:772.300')\n",
      "  clip 2; image_frame_index 14170, frame_msec 472805.6666666667, current_frame_timestamp (7, 52, '805.667', '07:52:805.667')\n",
      "  clip 2; image_frame_index 14171, frame_msec 472839.0333333334, current_frame_timestamp (7, 52, '839.033', '07:52:839.033')\n",
      "  clip 2; image_frame_index 14172, frame_msec 472872.4, current_frame_timestamp (7, 52, '872.400', '07:52:872.400')\n",
      "  clip 2; image_frame_index 14173, frame_msec 472905.7666666667, current_frame_timestamp (7, 52, '905.767', '07:52:905.767')\n",
      "  clip 2; image_frame_index 14174, frame_msec 472939.13333333336, current_frame_timestamp (7, 52, '939.133', '07:52:939.133')\n",
      "  clip 2; image_frame_index 14175, frame_msec 472972.5, current_frame_timestamp (7, 52, '972.500', '07:52:972.500')\n"
     ]
    },
    {
     "name": "stderr",
     "output_type": "stream",
     "text": [
      "100%|██████████████████████████████████████████████████████████████████████████████████████████████████████████████████████████████████████████████████| 20130/20130 [00:48<00:00, 411.16it/s]\n"
     ]
    },
    {
     "name": "stdout",
     "output_type": "stream",
     "text": [
      "Function '__getitem__' executed in 49.3274s\n",
      " <class 'torch.Tensor'>, torch.Size([359, 3, 1080, 1920]) \n"
     ]
    }
   ],
   "source": [
    "dataset = EchoViewVideoDataset(config['participant_videos_path'], config['participant_path_json_files'])\n",
    "\n",
    "video_index = 1\n",
    "data = dataset[video_index]\n",
    "print(f' {type(data)}, {data.size()} ')\n"
   ]
  },
  {
   "cell_type": "markdown",
   "id": "b19ea2a6",
   "metadata": {},
   "source": [
    "### Using dataloader with pre-processing image techniques"
   ]
  },
  {
   "cell_type": "code",
   "execution_count": 3,
   "id": "73552935",
   "metadata": {
    "ExecuteTime": {
     "end_time": "2021-12-17T12:19:38.561535Z",
     "start_time": "2021-12-17T12:19:32.767232Z"
    }
   },
   "outputs": [
    {
     "name": "stdout",
     "output_type": "stream",
     "text": [
      " Index: 0\n",
      " <class 'torch.Tensor'>, torch.Size([100, 3, 1080, 1920]) \n",
      " torch.Size([1080, 1920, 100, 3]) \n",
      "torch.Size([1080, 576000])\n",
      " Index: 1\n",
      " <class 'torch.Tensor'>, torch.Size([100, 3, 1080, 1920]) \n",
      " torch.Size([1080, 1920, 100, 3]) \n",
      "torch.Size([1080, 576000])\n",
      " Index: 2\n",
      " <class 'torch.Tensor'>, torch.Size([100, 3, 1080, 1920]) \n",
      " torch.Size([1080, 1920, 100, 3]) \n",
      "torch.Size([1080, 576000])\n",
      " Index: 3\n",
      " <class 'torch.Tensor'>, torch.Size([59, 3, 1080, 1920]) \n",
      " torch.Size([1080, 1920, 59, 3]) \n",
      "torch.Size([1080, 339840])\n"
     ]
    }
   ],
   "source": [
    "my_dloader = DataLoader(data,\n",
    "                    batch_size=100,\n",
    "                    shuffle=True,\n",
    "                    num_workers=4,\n",
    "                    pin_memory=True\n",
    "                    )\n",
    "\n",
    "for (idx, batch) in enumerate(my_dloader):\n",
    "    print(f' Index: {idx}')\n",
    "    print(f' {type(batch)}, {batch.size()} ')\n",
    "    print(f' {batch.permute(2,3,0,1).size()} ')\n",
    "    imgs = batch.permute(2,3,0,1)\n",
    "    imgs_flatten = torch.flatten(imgs,1)\n",
    "    print(f'{imgs_flatten.size()}')\n",
    "#     plt.imshow(imgs_flatten)\n",
    "#     plt.show()\n",
    "#     print(f' Batch: {batch}')\n"
   ]
  },
  {
   "cell_type": "code",
   "execution_count": null,
   "id": "a316f551",
   "metadata": {},
   "outputs": [],
   "source": []
  }
 ],
 "metadata": {
  "kernelspec": {
   "display_name": "Python 3 (ipykernel)",
   "language": "python",
   "name": "python3"
  },
  "language_info": {
   "codemirror_mode": {
    "name": "ipython",
    "version": 3
   },
   "file_extension": ".py",
   "mimetype": "text/x-python",
   "name": "python",
   "nbconvert_exporter": "python",
   "pygments_lexer": "ipython3",
   "version": "3.8.11"
  }
 },
 "nbformat": 4,
 "nbformat_minor": 5
}
