{
 "cells": [
  {
   "cell_type": "code",
   "execution_count": null,
   "id": "50a8c857",
   "metadata": {
    "ExecuteTime": {
     "end_time": "2021-12-15T16:22:51.341859Z",
     "start_time": "2021-12-15T16:22:51.335250Z"
    }
   },
   "outputs": [],
   "source": [
    "import argparse\n",
    "import yaml\n",
    "from torch.utils.data import DataLoader\n",
    "from source.dataloaders.EchocardiographicVideoDataset import EchoViewVideoDataset"
   ]
  },
  {
   "cell_type": "code",
   "execution_count": null,
   "id": "ef0f4c53",
   "metadata": {
    "ExecuteTime": {
     "end_time": "2021-12-15T16:22:51.741373Z",
     "start_time": "2021-12-15T16:22:51.734578Z"
    }
   },
   "outputs": [],
   "source": [
    "YML_FILE = '/home/mx19/repositories/echocardiography/scripts/config_files/config_4cv.yml'    \n",
    "with open(YML_FILE, 'r') as yml:\n",
    "    config = yaml.load(yml, Loader=yaml.FullLoader)"
   ]
  },
  {
   "cell_type": "code",
   "execution_count": null,
   "id": "5109aecd",
   "metadata": {
    "ExecuteTime": {
     "end_time": "2021-12-15T16:23:42.117265Z",
     "start_time": "2021-12-15T16:22:52.248527Z"
    }
   },
   "outputs": [],
   "source": [
    "dataset = EchoViewVideoDataset(config['participant_videos_path'], config['participant_path_json_files'])\n",
    "\n",
    "video_index = 1\n",
    "data = dataset[video_index]\n",
    "print(f' {type(data)}, {data.size()} ')\n"
   ]
  },
  {
   "cell_type": "code",
   "execution_count": null,
   "id": "73552935",
   "metadata": {
    "ExecuteTime": {
     "end_time": "2021-12-15T16:24:59.902985Z",
     "start_time": "2021-12-15T16:24:57.840025Z"
    }
   },
   "outputs": [],
   "source": [
    "my_dloader = DataLoader(data,\n",
    "                    batch_size=500,\n",
    "                    shuffle=True,\n",
    "                    num_workers=4,\n",
    "                    pin_memory=True\n",
    "                    )\n",
    "\n",
    "for (idx, batch) in enumerate(my_dloader):\n",
    "    print(f' Index: {idx}')\n",
    "    print(f' {type(batch)}, {batch.size()} ')\n",
    "    print(f' Batch: {batch}')\n"
   ]
  },
  {
   "cell_type": "code",
   "execution_count": null,
   "id": "a316f551",
   "metadata": {},
   "outputs": [],
   "source": []
  }
 ],
 "metadata": {
  "kernelspec": {
   "display_name": "Python 3 (ipykernel)",
   "language": "python",
   "name": "python3"
  },
  "language_info": {
   "codemirror_mode": {
    "name": "ipython",
    "version": 3
   },
   "file_extension": ".py",
   "mimetype": "text/x-python",
   "name": "python",
   "nbconvert_exporter": "python",
   "pygments_lexer": "ipython3",
   "version": "3.8.11"
  }
 },
 "nbformat": 4,
 "nbformat_minor": 5
}
