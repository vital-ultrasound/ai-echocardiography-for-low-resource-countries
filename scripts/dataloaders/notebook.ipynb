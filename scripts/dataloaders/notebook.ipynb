{
 "cells": [
  {
   "cell_type": "markdown",
   "id": "ef885fee",
   "metadata": {
    "ExecuteTime": {
     "end_time": "2021-12-17T09:18:05.695513Z",
     "start_time": "2021-12-17T09:18:03.125501Z"
    }
   },
   "source": [
    "# Pytorch dataloaders for echocardiography\n",
    "\n",
    "Miguel Xochicale [@mxochicale](https://github.com/mxochicale)  \n",
    "Dec2021/Jan2022\n",
    "\n",
    "\n",
    "## Introduction\n",
    "This notebook presents prototypes to pre-process echocardiography datasets with the use of pytorch features. \n",
    "\n",
    "## Running notebook\n",
    "\n",
    "1. Go to echocardiography repository path: `$HOME/repositories/echocardiography/`\n",
    "2. Open echocardiography repo in pycharm and in the terminal type:\n",
    "    ```\n",
    "    git checkout master # or the branch\n",
    "    git pull # to bring a local branch up-to-date with its remote version\n",
    "    ```\n",
    "3. Launch Notebook server\n",
    "    Go to you repository path: `cd $HOME/repositories/echocardiography/scripts/dataloaders` and type in the pycharm terminal:\n",
    "    ```\n",
    "    conda activate rt-ai-echo-VE \n",
    "    jupyter notebook\n",
    "    ```\n",
    "    which will open your web-browser.\n",
    "    \n",
    "    \n",
    "## References\n",
    "* NVIDIA Data Loading Library (DALI): https://github.com/NVIDIA/DALI/tree/main/docs/examples/sequence_processing Added: Mon 13 Dec 09:22:05 GMT 2021\n",
    "\n"
   ]
  },
  {
   "cell_type": "markdown",
   "id": "e93f2aa0",
   "metadata": {},
   "source": [
    "## Jupyter Notebook"
   ]
  },
  {
   "cell_type": "markdown",
   "id": "785d3efa",
   "metadata": {},
   "source": [
    "### Setting imports and datasets paths"
   ]
  },
  {
   "cell_type": "code",
   "execution_count": 1,
   "id": "f345efe8",
   "metadata": {
    "ExecuteTime": {
     "end_time": "2022-01-18T17:59:12.161105Z",
     "start_time": "2022-01-18T17:59:11.714185Z"
    }
   },
   "outputs": [],
   "source": [
    "import os\n",
    "import sys\n",
    "import argparse\n",
    "import yaml\n",
    "import torch\n",
    "import matplotlib.pyplot as plt\n",
    "import matplotlib.gridspec as gridspec\n",
    "\n",
    "from torch.utils.data import DataLoader\n",
    "from torchvision import transforms, utils\n",
    "\n",
    "from source.dataloaders.EchocardiographicVideoDataset import ViewVideoDataset\n",
    "\n",
    "HOME_PATH = os.path.expanduser(f'~')\n",
    "CONFIG_FILES_PATH= 'repositories/echocardiography/scripts/config_files'\n",
    "YML_FILE = os.path.join(HOME_PATH, CONFIG_FILES_PATH, 'config_4cv.yml')\n",
    "\n",
    "with open(YML_FILE, 'r') as yml:\n",
    "    config = yaml.load(yml, Loader=yaml.FullLoader)"
   ]
  },
  {
   "cell_type": "markdown",
   "id": "563b3729",
   "metadata": {
    "ExecuteTime": {
     "end_time": "2021-12-17T09:18:08.264310Z",
     "start_time": "2021-12-17T09:18:08.250178Z"
    }
   },
   "source": [
    "### Setting variables and loading datasets using pytorch dataloader"
   ]
  },
  {
   "cell_type": "code",
   "execution_count": 2,
   "id": "5109aecd",
   "metadata": {
    "ExecuteTime": {
     "end_time": "2022-01-18T17:59:50.297328Z",
     "start_time": "2022-01-18T17:59:12.162688Z"
    }
   },
   "outputs": [
    {
     "name": "stdout",
     "output_type": "stream",
     "text": [
      "  \n",
      "  \n",
      "  video_name=/home/mx19/datasets/vital-us/echocardiography/videos-echo/01NVb-003-072/T1/01NVb-003-072-1-echo.mp4\n",
      "  Frame_height=1080, frame_width=1920 fps=30 nframes=23285 \n",
      "  jsonfile_name=/home/mx19/repositories/echocardiography/data/labelling/json_files/4CV/01NVb_003_072/01NVb_003_072_T1_4CV.json\n",
      "  number_of_labelled_clips=1\n",
      "  \n",
      "  \n"
     ]
    },
    {
     "name": "stderr",
     "output_type": "stream",
     "text": [
      "100%|██████████████████████████████████████████████████████████████████████████████████████████████████████████████████████████████████████████████████| 23285/23285 [00:37<00:00, 616.69it/s]\n"
     ]
    },
    {
     "name": "stdout",
     "output_type": "stream",
     "text": [
      "Function '__getitem__' executed in 38.1306s\n",
      " <class 'torch.Tensor'>, torch.Size([180, 1, 32, 32]) \n"
     ]
    }
   ],
   "source": [
    "# ToPILImage() -> Resize() -> ToTensor() # https://discuss.pytorch.org/t/typeerror-img-should-be-pil-image-got-class-torch-tensor-conversion-from-torch-tensor-to-pil-image/30494/4\n",
    "data_transform = transforms.Compose([\n",
    "    transforms.CenterCrop(600),\n",
    "    transforms.Resize((32, 32)),\n",
    "    #transforms.Normalize(mean=[0.485, 0.456, 0.406], std=[0.229, 0.224, 0.225]) #Input tensor should be a float tensor. Got torch.uint8.\n",
    "    transforms.Grayscale()\n",
    "    #transforms.ToTensor(),\n",
    "    #transforms.RandomHorizontalFlip(),\n",
    "    #transforms.ToTensor() #TypeError: pic should be PIL Image or ndarray. Got <class 'torch.Tensor'>\n",
    "    #transforms.ToPILImage()  #ValueError: pic should be 2/3 dimensional. Got 4 dimensions\n",
    "    #\n",
    "    ])\n",
    "\n",
    "\n",
    "dataset = ViewVideoDataset(\n",
    "    config['participant_videos_path'], \n",
    "    config['participant_path_json_files'], \n",
    "    transform=data_transform\n",
    "    )\n",
    "\n",
    "\n",
    "video_index_S0 = 0\n",
    "data_S0 = dataset[video_index_S0]\n",
    "print(f' {type(data_S0)}, {data_S0.size()} ')\n",
    "\n",
    "\n",
    "# video_index_S1 = 1\n",
    "# data_S1 = dataset[video_index_S1]\n",
    "# print(f' {type(data_S1)}, {data_S1.size()} ')\n",
    "\n",
    "# video_index_S2 = 2\n",
    "# data_S2 = dataset[video_index_S2]\n",
    "# print(f' {type(data_S2)}, {data_S2.size()} ')\n",
    "\n",
    "#TODO: AG recommends to use one dataloader for multiple subjects and clips\n"
   ]
  },
  {
   "cell_type": "markdown",
   "id": "b19ea2a6",
   "metadata": {},
   "source": [
    "### Using dataloader with pre-processing image techniques"
   ]
  },
  {
   "cell_type": "code",
   "execution_count": 9,
   "id": "73552935",
   "metadata": {
    "ExecuteTime": {
     "end_time": "2022-01-18T18:04:16.155819Z",
     "start_time": "2022-01-18T18:04:16.065657Z"
    }
   },
   "outputs": [
    {
     "name": "stdout",
     "output_type": "stream",
     "text": [
      " Number of batches: 45 \n",
      "       batch_index: 0 batch_size: torch.Size([4, 1, 32, 32])\n",
      "       batch_index: 1 batch_size: torch.Size([4, 1, 32, 32])\n",
      "       batch_index: 2 batch_size: torch.Size([4, 1, 32, 32])\n",
      "       batch_index: 3 batch_size: torch.Size([4, 1, 32, 32])\n",
      "       Grid size torch.Size([3, 36, 138])\n"
     ]
    },
    {
     "data": {
      "image/png": "[encoded data removed]",
      "text/plain": [
       "<Figure size 1440x360 with 1 Axes>"
      ]
     },
     "metadata": {
      "needs_background": "light"
     },
     "output_type": "display_data"
    }
   ],
   "source": [
    "dataloader = DataLoader(data_S0,\n",
    "                    batch_size=4,\n",
    "                    shuffle=False,\n",
    "                    num_workers=0,\n",
    "                    pin_memory=True\n",
    "                    )\n",
    "length_of_dl=len(dataloader)\n",
    "print(f' Number of batches: {length_of_dl} ')\n",
    "\n",
    "\n",
    "for i_batch, sample_batched in enumerate(dataloader):\n",
    "    print(f'       batch_index: {i_batch} batch_size: {sample_batched.size()}'  )\n",
    "\n",
    "    # observe 4th batch and stop.\n",
    "    if i_batch == 3:\n",
    "        plt.figure(figsize =(20,5) )\n",
    "        \n",
    "        batch_size = len(sample_batched)\n",
    "        im_size_H, im_size_W = sample_batched.size(2), sample_batched.size(3)\n",
    "        \n",
    "        plt.tight_layout()\n",
    "        grid = utils.make_grid(sample_batched)\n",
    "        print(f'       Grid size {grid.size()}' )\n",
    "        gridT = grid.numpy().transpose((1, 2, 0))\n",
    "        \n",
    "        plt.imshow(gridT)\n",
    "        plt.title('Batch from dataloader')\n",
    "#         plt.axis('off')\n",
    "        plt.ioff()\n",
    "        plt.show()\n",
    "        break\n",
    "\n",
    "\n",
    "#  Number of batches: 45 \n",
    "#        batch_index: 0 batch_size: torch.Size([4, 3, 1080, 1920])\n",
    "#        batch_index: 1 batch_size: torch.Size([4, 3, 1080, 1920])\n",
    "#        batch_index: 2 batch_size: torch.Size([4, 3, 1080, 1920])\n",
    "#        batch_index: 3 batch_size: torch.Size([4, 3, 1080, 1920])\n",
    "#        Grid size torch.Size([3, 1084, 7690])    \n",
    "\n",
    "#  Number of batches: 45 \n",
    "#        batch_index: 0 batch_size: torch.Size([4, 1, 32, 32])\n",
    "#        batch_index: 1 batch_size: torch.Size([4, 1, 32, 32])\n",
    "#        batch_index: 2 batch_size: torch.Size([4, 1, 32, 32])\n",
    "#        batch_index: 3 batch_size: torch.Size([4, 1, 32, 32])\n",
    "#        Grid size torch.Size([3, 36, 138])\n",
    "\n",
    "\n"
   ]
  },
  {
   "cell_type": "code",
   "execution_count": null,
   "id": "a316f551",
   "metadata": {},
   "outputs": [],
   "source": []
  },
  {
   "cell_type": "code",
   "execution_count": null,
   "id": "cd312af0",
   "metadata": {},
   "outputs": [],
   "source": []
  },
  {
   "cell_type": "code",
   "execution_count": null,
   "id": "3f167b6d",
   "metadata": {},
   "outputs": [],
   "source": []
  }
 ],
 "metadata": {
  "kernelspec": {
   "display_name": "Python 3 (ipykernel)",
   "language": "python",
   "name": "python3"
  },
  "language_info": {
   "codemirror_mode": {
    "name": "ipython",
    "version": 3
   },
   "file_extension": ".py",
   "mimetype": "text/x-python",
   "name": "python",
   "nbconvert_exporter": "python",
   "pygments_lexer": "ipython3",
   "version": "3.8.11"
  }
 },
 "nbformat": 4,
 "nbformat_minor": 5
}
